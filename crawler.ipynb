{
 "nbformat": 4,
 "nbformat_minor": 0,
 "metadata": {
  "kernelspec": {
   "display_name": "Python 3",
   "language": "python",
   "name": "python3"
  },
  "language_info": {
   "codemirror_mode": {
    "name": "ipython",
    "version": 3
   },
   "file_extension": ".py",
   "mimetype": "text/x-python",
   "name": "python",
   "nbconvert_exporter": "python",
   "pygments_lexer": "ipython3",
   "version": "3.7.1"
  },
  "colab": {
   "name": "抓取個股財務資訊.ipynb",
   "provenance": [],
   "collapsed_sections": [],
   "toc_visible": true,
   "history_visible": true
  }
 },
 "cells": [
  {
   "cell_type": "markdown",
   "metadata": {
    "id": "drzYu7M_wjNS"
   },
   "source": [
    "# 抓取個股財務資訊"
   ]
  },
  {
   "cell_type": "markdown",
   "metadata": {
    "id": "PUVJV89TwjNT"
   },
   "source": [
    "## 相關連結\n",
    "\n",
    "財務比率表(季表,台積電)\n",
    "* [http://jsjustweb.jihsun.com.tw/z/zc/zcr/zcr0.djhtm?b=Q&a=2330](http://jsjustweb.jihsun.com.tw/z/zc/zcr/zcr0.djhtm?b=Q&a=2330)\n",
    "\n",
    "現金流量表(季表,台積電)\n",
    "* [http://jsjustweb.jihsun.com.tw/z/zc/zc30.djhtm?b=Q&a=2330](http://jsjustweb.jihsun.com.tw/z/zc/zc30.djhtm?b=Q&a=2330)\n"
   ]
  },
  {
   "cell_type": "markdown",
   "metadata": {
    "id": "23gjvp_DwjNU"
   },
   "source": [
    "---"
   ]
  },
  {
   "cell_type": "code",
   "metadata": {
    "id": "_-tg2sMDwjNU"
   },
   "source": [
    "import pandas as pd"
   ],
   "execution_count": 1,
   "outputs": []
  },
  {
   "cell_type": "code",
   "metadata": {
    "id": "_IPLz09pwjNX"
   },
   "source": [
    "url = \"http://jsjustweb.jihsun.com.tw/z/zc/zcr/zcr0.djhtm?b=Q&a=2330\""
   ],
   "execution_count": 2,
   "outputs": []
  },
  {
   "cell_type": "code",
   "metadata": {
    "id": "R_p3RhDpwjNa"
   },
   "source": [
    "dfs = pd.read_html(url)"
   ],
   "execution_count": 3,
   "outputs": []
  },
  {
   "cell_type": "code",
   "metadata": {
    "id": "BHUv4n2cwjNc",
    "outputId": "3226039d-fcb4-469b-f429-ae36e91365bf",
    "colab": {
     "base_uri": "https://localhost:8080/",
     "height": 233
    }
   },
   "source": [
    "dfs[2].head()"
   ],
   "execution_count": null,
   "outputs": [
    {
     "output_type": "execute_result",
     "data": {
      "text/html": [
       "<div>\n",
       "<style scoped>\n",
       "    .dataframe tbody tr th:only-of-type {\n",
       "        vertical-align: middle;\n",
       "    }\n",
       "\n",
       "    .dataframe tbody tr th {\n",
       "        vertical-align: top;\n",
       "    }\n",
       "\n",
       "    .dataframe thead th {\n",
       "        text-align: right;\n",
       "    }\n",
       "</style>\n",
       "<table border=\"1\" class=\"dataframe\">\n",
       "  <thead>\n",
       "    <tr style=\"text-align: right;\">\n",
       "      <th></th>\n",
       "      <th>0</th>\n",
       "      <th>1</th>\n",
       "      <th>2</th>\n",
       "      <th>3</th>\n",
       "      <th>4</th>\n",
       "      <th>5</th>\n",
       "      <th>6</th>\n",
       "      <th>7</th>\n",
       "      <th>8</th>\n",
       "    </tr>\n",
       "  </thead>\n",
       "  <tbody>\n",
       "    <tr>\n",
       "      <th>0</th>\n",
       "      <td>獲利能力指標單位：%</td>\n",
       "      <td>獲利能力指標單位：%</td>\n",
       "      <td>獲利能力指標單位：%</td>\n",
       "      <td>獲利能力指標單位：%</td>\n",
       "      <td>獲利能力指標單位：%</td>\n",
       "      <td>獲利能力指標單位：%</td>\n",
       "      <td>獲利能力指標單位：%</td>\n",
       "      <td>獲利能力指標單位：%</td>\n",
       "      <td>獲利能力指標單位：%</td>\n",
       "    </tr>\n",
       "    <tr>\n",
       "      <th>1</th>\n",
       "      <td>期別</td>\n",
       "      <td>2020.2Q</td>\n",
       "      <td>2020.1Q</td>\n",
       "      <td>2019.4Q</td>\n",
       "      <td>2019.3Q</td>\n",
       "      <td>2019.2Q</td>\n",
       "      <td>2019.1Q</td>\n",
       "      <td>2018.4Q</td>\n",
       "      <td>2018.3Q</td>\n",
       "    </tr>\n",
       "    <tr>\n",
       "      <th>2</th>\n",
       "      <td>種類</td>\n",
       "      <td>合併</td>\n",
       "      <td>合併</td>\n",
       "      <td>合併</td>\n",
       "      <td>合併</td>\n",
       "      <td>合併</td>\n",
       "      <td>合併</td>\n",
       "      <td>合併</td>\n",
       "      <td>合併</td>\n",
       "    </tr>\n",
       "    <tr>\n",
       "      <th>3</th>\n",
       "      <td>ROA(C)稅前息前折舊前</td>\n",
       "      <td>8.69</td>\n",
       "      <td>8.73</td>\n",
       "      <td>9.04</td>\n",
       "      <td>8.26</td>\n",
       "      <td>7.08</td>\n",
       "      <td>6.88</td>\n",
       "      <td>9.42</td>\n",
       "      <td>8.75</td>\n",
       "    </tr>\n",
       "    <tr>\n",
       "      <th>4</th>\n",
       "      <td>ROA(A)稅後息前</td>\n",
       "      <td>5.06</td>\n",
       "      <td>5.1</td>\n",
       "      <td>5.3</td>\n",
       "      <td>4.65</td>\n",
       "      <td>3.05</td>\n",
       "      <td>2.9</td>\n",
       "      <td>4.96</td>\n",
       "      <td>4.46</td>\n",
       "    </tr>\n",
       "  </tbody>\n",
       "</table>\n",
       "</div>"
      ],
      "text/plain": [
       "               0           1           2  ...           6           7           8\n",
       "0     獲利能力指標單位：%  獲利能力指標單位：%  獲利能力指標單位：%  ...  獲利能力指標單位：%  獲利能力指標單位：%  獲利能力指標單位：%\n",
       "1             期別     2020.2Q     2020.1Q  ...     2019.1Q     2018.4Q     2018.3Q\n",
       "2             種類          合併          合併  ...          合併          合併          合併\n",
       "3  ROA(C)稅前息前折舊前        8.69        8.73  ...        6.88        9.42        8.75\n",
       "4     ROA(A)稅後息前        5.06         5.1  ...         2.9        4.96        4.46\n",
       "\n",
       "[5 rows x 9 columns]"
      ]
     },
     "metadata": {
      "tags": []
     },
     "execution_count": 5
    }
   ]
  },
  {
   "cell_type": "code",
   "metadata": {
    "id": "O__sHaKywjNe"
   },
   "source": [
    "df = dfs[2]"
   ],
   "execution_count": null,
   "outputs": []
  },
  {
   "cell_type": "code",
   "metadata": {
    "id": "YurfgBXWwjNh",
    "outputId": "51889968-5ab9-4357-fe87-f496b0134c43",
    "colab": {
     "base_uri": "https://localhost:8080/",
     "height": 199
    }
   },
   "source": [
    "df[df[0]=='期別'].iloc[0]"
   ],
   "execution_count": null,
   "outputs": [
    {
     "output_type": "execute_result",
     "data": {
      "text/plain": [
       "0         期別\n",
       "1    2020.2Q\n",
       "2    2020.1Q\n",
       "3    2019.4Q\n",
       "4    2019.3Q\n",
       "5    2019.2Q\n",
       "6    2019.1Q\n",
       "7    2018.4Q\n",
       "8    2018.3Q\n",
       "Name: 1, dtype: object"
      ]
     },
     "metadata": {
      "tags": []
     },
     "execution_count": 7
    }
   ]
  },
  {
   "cell_type": "code",
   "metadata": {
    "id": "R2utLYtfwjNj",
    "outputId": "af249bc3-3824-4974-cc75-8413dbf58ea5",
    "colab": {
     "base_uri": "https://localhost:8080/",
     "height": 126
    }
   },
   "source": [
    "roedf=df[df[0]==\"ROE(A)─稅後\"].iloc[0][0:5]\n",
    "roedf"
   ],
   "execution_count": null,
   "outputs": [
    {
     "output_type": "execute_result",
     "data": {
      "text/plain": [
       "0    ROE(A)─稅後\n",
       "1         7.12\n",
       "2          7.1\n",
       "3         7.23\n",
       "4         6.44\n",
       "Name: 6, dtype: object"
      ]
     },
     "metadata": {
      "tags": []
     },
     "execution_count": 8
    }
   ]
  },
  {
   "cell_type": "code",
   "metadata": {
    "id": "nq15rLIBzGNa",
    "outputId": "c3ee3d4d-2609-4b49-ac74-8f93219ef263",
    "colab": {
     "base_uri": "https://localhost:8080/",
     "height": 108
    }
   },
   "source": [
    "roedf=df[df[0]==\"ROE(A)─稅後\"].iloc[0][1:5].astype(float)\n",
    "roedf"
   ],
   "execution_count": null,
   "outputs": [
    {
     "output_type": "execute_result",
     "data": {
      "text/plain": [
       "1    7.12\n",
       "2    7.10\n",
       "3    7.23\n",
       "4    6.44\n",
       "Name: 6, dtype: float64"
      ]
     },
     "metadata": {
      "tags": []
     },
     "execution_count": 10
    }
   ]
  },
  {
   "cell_type": "code",
   "metadata": {
    "id": "loEwAQ76y641",
    "outputId": "8a827c52-a947-41e0-bc84-ada7909b4f31",
    "colab": {
     "base_uri": "https://localhost:8080/",
     "height": 35
    }
   },
   "source": [
    "roe = roedf.sum()\n",
    "roe"
   ],
   "execution_count": null,
   "outputs": [
    {
     "output_type": "execute_result",
     "data": {
      "text/plain": [
       "27.89"
      ]
     },
     "metadata": {
      "tags": []
     },
     "execution_count": 11
    }
   ]
  },
  {
   "cell_type": "code",
   "metadata": {
    "id": "i_W9SUMq0qn7"
   },
   "source": [
    "url = \"http://jsjustweb.jihsun.com.tw/z/zc/zc30.djhtm?b=Q&a=2330\""
   ],
   "execution_count": null,
   "outputs": []
  },
  {
   "cell_type": "code",
   "metadata": {
    "id": "pEEid7dm0xu9"
   },
   "source": [
    "dfs = pd.read_html(url)"
   ],
   "execution_count": null,
   "outputs": []
  },
  {
   "cell_type": "code",
   "metadata": {
    "id": "5Jf32W6102Cf",
    "outputId": "afb470a2-9bd1-4712-9890-cbc4f24a4d30",
    "colab": {
     "base_uri": "https://localhost:8080/",
     "height": 198
    }
   },
   "source": [
    "df = dfs[2]\n",
    "df.head()"
   ],
   "execution_count": null,
   "outputs": [
    {
     "output_type": "execute_result",
     "data": {
      "text/html": [
       "<div>\n",
       "<style scoped>\n",
       "    .dataframe tbody tr th:only-of-type {\n",
       "        vertical-align: middle;\n",
       "    }\n",
       "\n",
       "    .dataframe tbody tr th {\n",
       "        vertical-align: top;\n",
       "    }\n",
       "\n",
       "    .dataframe thead th {\n",
       "        text-align: right;\n",
       "    }\n",
       "</style>\n",
       "<table border=\"1\" class=\"dataframe\">\n",
       "  <thead>\n",
       "    <tr style=\"text-align: right;\">\n",
       "      <th></th>\n",
       "      <th>0</th>\n",
       "      <th>1</th>\n",
       "      <th>2</th>\n",
       "      <th>3</th>\n",
       "      <th>4</th>\n",
       "      <th>5</th>\n",
       "      <th>6</th>\n",
       "      <th>7</th>\n",
       "      <th>8</th>\n",
       "    </tr>\n",
       "  </thead>\n",
       "  <tbody>\n",
       "    <tr>\n",
       "      <th>0</th>\n",
       "      <td>期別</td>\n",
       "      <td>2020.2Q</td>\n",
       "      <td>2020.1Q</td>\n",
       "      <td>2019.4Q</td>\n",
       "      <td>2019.3Q</td>\n",
       "      <td>2019.2Q</td>\n",
       "      <td>2019.1Q</td>\n",
       "      <td>2018.4Q</td>\n",
       "      <td>2018.3Q</td>\n",
       "    </tr>\n",
       "    <tr>\n",
       "      <th>1</th>\n",
       "      <td>種類</td>\n",
       "      <td>合併</td>\n",
       "      <td>合併</td>\n",
       "      <td>合併</td>\n",
       "      <td>合併</td>\n",
       "      <td>合併</td>\n",
       "      <td>合併</td>\n",
       "      <td>合併</td>\n",
       "      <td>合併</td>\n",
       "    </tr>\n",
       "    <tr>\n",
       "      <th>2</th>\n",
       "      <td>稅前淨利－CFO</td>\n",
       "      <td>136399</td>\n",
       "      <td>132147</td>\n",
       "      <td>128782</td>\n",
       "      <td>112336</td>\n",
       "      <td>80545</td>\n",
       "      <td>68182</td>\n",
       "      <td>111082</td>\n",
       "      <td>98897</td>\n",
       "    </tr>\n",
       "    <tr>\n",
       "      <th>3</th>\n",
       "      <td>折舊－CFO</td>\n",
       "      <td>68982</td>\n",
       "      <td>67084</td>\n",
       "      <td>66137</td>\n",
       "      <td>65377</td>\n",
       "      <td>73705</td>\n",
       "      <td>76192</td>\n",
       "      <td>74806</td>\n",
       "      <td>72505</td>\n",
       "    </tr>\n",
       "    <tr>\n",
       "      <th>4</th>\n",
       "      <td>攤提－CFO</td>\n",
       "      <td>1894</td>\n",
       "      <td>1471</td>\n",
       "      <td>1394</td>\n",
       "      <td>1379</td>\n",
       "      <td>1344</td>\n",
       "      <td>1355</td>\n",
       "      <td>1224</td>\n",
       "      <td>1105</td>\n",
       "    </tr>\n",
       "  </tbody>\n",
       "</table>\n",
       "</div>"
      ],
      "text/plain": [
       "          0        1        2        3  ...        5        6        7        8\n",
       "0        期別  2020.2Q  2020.1Q  2019.4Q  ...  2019.2Q  2019.1Q  2018.4Q  2018.3Q\n",
       "1        種類       合併       合併       合併  ...       合併       合併       合併       合併\n",
       "2  稅前淨利－CFO   136399   132147   128782  ...    80545    68182   111082    98897\n",
       "3    折舊－CFO    68982    67084    66137  ...    73705    76192    74806    72505\n",
       "4    攤提－CFO     1894     1471     1394  ...     1344     1355     1224     1105\n",
       "\n",
       "[5 rows x 9 columns]"
      ]
     },
     "metadata": {
      "tags": []
     },
     "execution_count": 14
    }
   ]
  },
  {
   "cell_type": "markdown",
   "metadata": {
    "id": "KEX91jbA1JFV"
   },
   "source": [
    "來自營運之現金流量"
   ]
  },
  {
   "cell_type": "code",
   "metadata": {
    "id": "xBkU4d-g1Jx2",
    "outputId": "f378b8a3-d16a-4f0e-cd7b-efdc28a1a4d8",
    "colab": {
     "base_uri": "https://localhost:8080/",
     "height": 126
    }
   },
   "source": [
    "op_cashflow=df[df[0]==\"來自營運之現金流量\"].iloc[0][0:5]\n",
    "op_cashflow"
   ],
   "execution_count": null,
   "outputs": [
    {
     "output_type": "execute_result",
     "data": {
      "text/plain": [
       "0    來自營運之現金流量\n",
       "1       170335\n",
       "2       203029\n",
       "3       202954\n",
       "4       141753\n",
       "Name: 54, dtype: object"
      ]
     },
     "metadata": {
      "tags": []
     },
     "execution_count": 15
    }
   ]
  },
  {
   "cell_type": "code",
   "metadata": {
    "id": "gl--88yj1brN",
    "outputId": "d69ce602-53a5-4379-f7ce-9eb4e4ddd8ba",
    "colab": {
     "base_uri": "https://localhost:8080/",
     "height": 108
    }
   },
   "source": [
    "op_cashflow=df[df[0]==\"來自營運之現金流量\"].iloc[0][1:5].astype(int)\n",
    "op_cashflow"
   ],
   "execution_count": null,
   "outputs": [
    {
     "output_type": "execute_result",
     "data": {
      "text/plain": [
       "1    170335\n",
       "2    203029\n",
       "3    202954\n",
       "4    141753\n",
       "Name: 54, dtype: int64"
      ]
     },
     "metadata": {
      "tags": []
     },
     "execution_count": 16
    }
   ]
  },
  {
   "cell_type": "code",
   "metadata": {
    "id": "DoZJmscS1ndT",
    "outputId": "c7e3e5b9-0d2d-4f81-cfa3-2f8a7b94ed4b",
    "colab": {
     "base_uri": "https://localhost:8080/",
     "height": 35
    }
   },
   "source": [
    "op_cashflow_sum = op_cashflow.sum()\n",
    "op_cashflow_sum"
   ],
   "execution_count": null,
   "outputs": [
    {
     "output_type": "execute_result",
     "data": {
      "text/plain": [
       "718071"
      ]
     },
     "metadata": {
      "tags": []
     },
     "execution_count": 17
    }
   ]
  },
  {
   "cell_type": "code",
   "metadata": {
    "id": "ttF97hAZ5404",
    "outputId": "48d22da3-7903-4e5c-8651-5628f8ed8d3e",
    "colab": {
     "base_uri": "https://localhost:8080/",
     "height": 108
    }
   },
   "source": [
    "inv_cashflow=df[df[0]==\"投資活動之現金流量\"].iloc[0][1:5].astype(int)\n",
    "inv_cashflow"
   ],
   "execution_count": null,
   "outputs": [
    {
     "output_type": "execute_result",
     "data": {
      "text/plain": [
       "1   -129750\n",
       "2   -188993\n",
       "3   -171605\n",
       "4   -108290\n",
       "Name: 70, dtype: int64"
      ]
     },
     "metadata": {
      "tags": []
     },
     "execution_count": 18
    }
   ]
  },
  {
   "cell_type": "code",
   "metadata": {
    "id": "bhO7qC1A6VMv",
    "outputId": "bb6c090b-21cd-4f5f-d432-262ea1dfc92d",
    "colab": {
     "base_uri": "https://localhost:8080/",
     "height": 35
    }
   },
   "source": [
    "inv_cashflow_sum = inv_cashflow.sum()\n",
    "inv_cashflow_sum"
   ],
   "execution_count": null,
   "outputs": [
    {
     "output_type": "execute_result",
     "data": {
      "text/plain": [
       "-598638"
      ]
     },
     "metadata": {
      "tags": []
     },
     "execution_count": 19
    }
   ]
  },
  {
   "cell_type": "code",
   "metadata": {
    "id": "VZt1-lA0SXdt",
    "outputId": "4f339270-1c8a-434d-d678-f1d3cff44d7e",
    "colab": {
     "base_uri": "https://localhost:8080/",
     "height": 35
    }
   },
   "source": [
    "op_cashflow_sum+inv_cashflow_sum"
   ],
   "execution_count": null,
   "outputs": [
    {
     "output_type": "execute_result",
     "data": {
      "text/plain": [
       "119433"
      ]
     },
     "metadata": {
      "tags": []
     },
     "execution_count": 20
    }
   ]
  }
 ]
}